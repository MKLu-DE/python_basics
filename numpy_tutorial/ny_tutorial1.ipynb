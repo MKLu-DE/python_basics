{
 "cells": [
  {
   "cell_type": "markdown",
   "id": "04499a05",
   "metadata": {},
   "source": [
    "### NumPy（Numerical Python）\n",
    "- Numpy是Python中最重要的科学计算库之一。\n",
    "- 它提供了高效的多维数组对象（ndarray），并内置大量数学函数、线性代数运算、随机数生成和统计分析功能。\n",
    "- 相比普通 Python 列表，NumPy在速度和内存效率上更有优势，是数据分析、机器学习和科学计算的基础工具。"
   ]
  },
  {
   "cell_type": "code",
   "execution_count": null,
   "id": "6a058525",
   "metadata": {},
   "outputs": [],
   "source": [
    "import numpy as np"
   ]
  },
  {
   "cell_type": "markdown",
   "id": "8b32c41d",
   "metadata": {},
   "source": [
    "### 1. 创建数组"
   ]
  },
  {
   "cell_type": "code",
   "execution_count": null,
   "id": "50639552",
   "metadata": {},
   "outputs": [],
   "source": [
    "# 创建最简单的numpy数组\n",
    "\n",
    "a_list = [1, 2, 3]\n",
    "\n",
    "a = np.array(a_list)\n",
    "\n",
    "a"
   ]
  },
  {
   "cell_type": "code",
   "execution_count": null,
   "id": "3003d2e9",
   "metadata": {},
   "outputs": [],
   "source": [
    "a_list * 2 "
   ]
  },
  {
   "cell_type": "code",
   "execution_count": null,
   "id": "bfeee572",
   "metadata": {},
   "outputs": [],
   "source": [
    "a * 2 "
   ]
  },
  {
   "cell_type": "code",
   "execution_count": null,
   "id": "87964d64",
   "metadata": {},
   "outputs": [],
   "source": [
    "# 创建全零数组\n",
    "b = np.zeros((2, 3))  # 2行3列的全零数组\n",
    "b"
   ]
  },
  {
   "cell_type": "code",
   "execution_count": null,
   "id": "9d6e4134",
   "metadata": {},
   "outputs": [],
   "source": [
    "# 全1数组\n",
    "c = np.ones((3, 2))  # 3行2列的全1数组\n",
    "c"
   ]
  },
  {
   "cell_type": "code",
   "execution_count": null,
   "id": "ec9fc440",
   "metadata": {},
   "outputs": [],
   "source": [
    "# 单位矩阵\n",
    "d = np.eye(3)  # 3x3单位矩阵\n",
    "d"
   ]
  },
  {
   "cell_type": "code",
   "execution_count": null,
   "id": "ded48047",
   "metadata": {},
   "outputs": [],
   "source": [
    "# 确定步长的等差数列\n",
    "e = np.arange(0, 10, 2)  # 从0到10，步长为2\n",
    "e"
   ]
  },
  {
   "cell_type": "code",
   "execution_count": null,
   "id": "9f76f1d6",
   "metadata": {},
   "outputs": [],
   "source": [
    "# 确定个数的等差数列\n",
    "f = np.linspace(0, 1, 5)  # 从0到1，生成5个数\n",
    "f"
   ]
  },
  {
   "cell_type": "code",
   "execution_count": null,
   "id": "18c1722d",
   "metadata": {},
   "outputs": [],
   "source": [
    "# 定义数据类型\n",
    "np.array([1,2,3], dtype=np.int32)      # 指定整型"
   ]
  },
  {
   "cell_type": "code",
   "execution_count": null,
   "id": "cfdf5d5a",
   "metadata": {},
   "outputs": [],
   "source": [
    "np.array([1.2,3.4], dtype=np.float32)  # 指定浮点型"
   ]
  },
  {
   "cell_type": "code",
   "execution_count": null,
   "id": "06600a91",
   "metadata": {},
   "outputs": [],
   "source": [
    "np.array([1+2j, 3+4j], dtype=np.complex64)  # 复数"
   ]
  },
  {
   "cell_type": "code",
   "execution_count": null,
   "id": "71bda121",
   "metadata": {},
   "outputs": [],
   "source": [
    "np.array([True, False], dtype=np.bool_)     # 布尔"
   ]
  },
  {
   "cell_type": "code",
   "execution_count": null,
   "id": "86152449",
   "metadata": {},
   "outputs": [],
   "source": [
    "np.array(['2025-01-01'], dtype=np.datetime64)  # 日期"
   ]
  },
  {
   "cell_type": "markdown",
   "id": "7b1120df",
   "metadata": {},
   "source": [
    "### 2. 数组特征"
   ]
  },
  {
   "cell_type": "code",
   "execution_count": null,
   "id": "9960fd64",
   "metadata": {},
   "outputs": [],
   "source": [
    "d"
   ]
  },
  {
   "cell_type": "code",
   "execution_count": null,
   "id": "cff61199",
   "metadata": {},
   "outputs": [],
   "source": [
    "# 数组维度\n",
    "d.shape    "
   ]
  },
  {
   "cell_type": "code",
   "execution_count": null,
   "id": "ffb1ca25",
   "metadata": {},
   "outputs": [],
   "source": [
    "# 维度数\n",
    "d.ndim"
   ]
  },
  {
   "cell_type": "code",
   "execution_count": null,
   "id": "9792be76",
   "metadata": {},
   "outputs": [],
   "source": [
    "# 元素总数\n",
    "d.size"
   ]
  },
  {
   "cell_type": "code",
   "execution_count": null,
   "id": "7874b158",
   "metadata": {},
   "outputs": [],
   "source": [
    "# 数据类型\n",
    "d.dtype"
   ]
  },
  {
   "cell_type": "markdown",
   "id": "bdab4dc9",
   "metadata": {},
   "source": [
    "### 3. 数组运算"
   ]
  },
  {
   "cell_type": "code",
   "execution_count": null,
   "id": "c25ef9b7",
   "metadata": {},
   "outputs": [],
   "source": [
    "x = np.array([1, 2, 3])\n",
    "y = np.array([10, 20, 30])"
   ]
  },
  {
   "cell_type": "code",
   "execution_count": null,
   "id": "eb462034",
   "metadata": {},
   "outputs": [],
   "source": [
    "x + y       # [11, 22, 33]"
   ]
  },
  {
   "cell_type": "code",
   "execution_count": null,
   "id": "51d61c5e",
   "metadata": {},
   "outputs": [],
   "source": [
    "x - y       # [-9, -18, -27]"
   ]
  },
  {
   "cell_type": "code",
   "execution_count": null,
   "id": "ce7ceb0f",
   "metadata": {},
   "outputs": [],
   "source": [
    "x * y       # [10, 40, 90]  (逐元素相乘)"
   ]
  },
  {
   "cell_type": "code",
   "execution_count": null,
   "id": "7edb6aab",
   "metadata": {},
   "outputs": [],
   "source": [
    "x / y       # [0.1, 0.1, 0.1]"
   ]
  },
  {
   "cell_type": "code",
   "execution_count": null,
   "id": "afedd663",
   "metadata": {},
   "outputs": [],
   "source": [
    "x ** 2      # [1, 4, 9]     (幂运算)"
   ]
  },
  {
   "cell_type": "code",
   "execution_count": null,
   "id": "46b04eb8",
   "metadata": {},
   "outputs": [],
   "source": [
    "np.dot(x, y)  # 点积 (1*10 + 2*20 + 3*30 = 140)"
   ]
  },
  {
   "cell_type": "markdown",
   "id": "81821bc5",
   "metadata": {},
   "source": [
    "### 4. 索引和切片"
   ]
  },
  {
   "cell_type": "code",
   "execution_count": null,
   "id": "087a6450",
   "metadata": {},
   "outputs": [],
   "source": [
    "A = np.array([[1,2,3],[4,5,6],[7,8,9]])\n",
    "A"
   ]
  },
  {
   "cell_type": "code",
   "execution_count": null,
   "id": "b805a6e9",
   "metadata": {},
   "outputs": [],
   "source": [
    "A[0, 0]      # 1 (第一行第一列)"
   ]
  },
  {
   "cell_type": "code",
   "execution_count": null,
   "id": "7c1d987f",
   "metadata": {},
   "outputs": [],
   "source": [
    "A[:, 1]      # [2,5,8] (第2列)"
   ]
  },
  {
   "cell_type": "code",
   "execution_count": null,
   "id": "47b03bcf",
   "metadata": {},
   "outputs": [],
   "source": [
    "A[1, :]      # [4,5,6] (第2行)"
   ]
  },
  {
   "cell_type": "code",
   "execution_count": null,
   "id": "0eb0a2f6",
   "metadata": {},
   "outputs": [],
   "source": [
    "# 行：1，2，3；3排除在外\n",
    "# 列：2，3，4；4排除在外\n",
    "A[0:2, 1:3]  # 子矩阵 [[2,3],[5,6]]"
   ]
  },
  {
   "cell_type": "code",
   "execution_count": null,
   "id": "d9a09302",
   "metadata": {},
   "outputs": [],
   "source": [
    "# 最近数字的位置\n",
    "wanted_element = 7.8 \n",
    "B = np.linspace(0, 10, 11)\n",
    "B "
   ]
  },
  {
   "cell_type": "code",
   "execution_count": null,
   "id": "ec5d35b9",
   "metadata": {},
   "outputs": [],
   "source": [
    "idx = (np.abs(B - wanted_element)).argmin()\n",
    "idx"
   ]
  },
  {
   "cell_type": "code",
   "execution_count": null,
   "id": "d1dac673",
   "metadata": {},
   "outputs": [],
   "source": [
    "B[idx]"
   ]
  },
  {
   "cell_type": "markdown",
   "id": "fedf4121",
   "metadata": {},
   "source": [
    "### 5. 数学函数"
   ]
  },
  {
   "cell_type": "code",
   "execution_count": null,
   "id": "0549fbdf",
   "metadata": {},
   "outputs": [],
   "source": [
    "np.sqrt([1,4,9])      # 平方根"
   ]
  },
  {
   "cell_type": "code",
   "execution_count": null,
   "id": "82926545",
   "metadata": {},
   "outputs": [],
   "source": [
    "np.exp([0,1])         # e^x"
   ]
  },
  {
   "cell_type": "code",
   "execution_count": null,
   "id": "48506fb6",
   "metadata": {},
   "outputs": [],
   "source": [
    "np.log([1, np.e])     # ln(x)"
   ]
  },
  {
   "cell_type": "code",
   "execution_count": null,
   "id": "9f0570d9",
   "metadata": {},
   "outputs": [],
   "source": [
    "np.log10([1, 10, 100]) # log10(x)"
   ]
  },
  {
   "cell_type": "code",
   "execution_count": null,
   "id": "5a684fdc",
   "metadata": {},
   "outputs": [],
   "source": [
    "np.sin(np.pi/2)       # 1.0\n",
    "np.cos(0)          # 1.0\n",
    "np.tan(np.pi/4)       # 1.0"
   ]
  },
  {
   "cell_type": "code",
   "execution_count": null,
   "id": "bff4ce9a",
   "metadata": {},
   "outputs": [],
   "source": [
    "np.mean([1,2,3])      # 平均值 2.0"
   ]
  },
  {
   "cell_type": "code",
   "execution_count": null,
   "id": "8705bd4e",
   "metadata": {},
   "outputs": [],
   "source": [
    "np.median([1,2,3,4,4,8])  # 中位数"
   ]
  },
  {
   "cell_type": "code",
   "execution_count": null,
   "id": "8ec4a68c",
   "metadata": {},
   "outputs": [],
   "source": [
    "np.std([1,2,3])       # 标准差"
   ]
  },
  {
   "cell_type": "code",
   "execution_count": null,
   "id": "7e79fc17",
   "metadata": {},
   "outputs": [],
   "source": [
    "np.sum([1,2,3])       # 和"
   ]
  },
  {
   "cell_type": "code",
   "execution_count": null,
   "id": "1af45fdc",
   "metadata": {},
   "outputs": [],
   "source": [
    "np.min([3,1,4])       # 最小值"
   ]
  },
  {
   "cell_type": "code",
   "execution_count": null,
   "id": "a86c7adb",
   "metadata": {},
   "outputs": [],
   "source": [
    "np.max([3,1,4])       # 最大值"
   ]
  },
  {
   "cell_type": "markdown",
   "id": "76a5f61f",
   "metadata": {},
   "source": [
    "### 6. 形状变换"
   ]
  },
  {
   "cell_type": "code",
   "execution_count": null,
   "id": "fdc63662",
   "metadata": {},
   "outputs": [],
   "source": [
    "A1 = np.arange(6)       # [0,1,2,3,4,5]\n",
    "A1 "
   ]
  },
  {
   "cell_type": "code",
   "execution_count": null,
   "id": "62d82021",
   "metadata": {},
   "outputs": [],
   "source": [
    "# 变形\n",
    "A1.reshape(3,2) "
   ]
  },
  {
   "cell_type": "code",
   "execution_count": null,
   "id": "31904949",
   "metadata": {},
   "outputs": [],
   "source": [
    "A2 = np.array(\n",
    "    [[0, 1, 2],\n",
    "    [3, 4, 5]])\n",
    "A2"
   ]
  },
  {
   "cell_type": "code",
   "execution_count": null,
   "id": "cb4ada3b",
   "metadata": {},
   "outputs": [],
   "source": [
    "# 扁平化\n",
    "A2.ravel()"
   ]
  },
  {
   "cell_type": "code",
   "execution_count": null,
   "id": "31fbed43",
   "metadata": {},
   "outputs": [],
   "source": [
    "# 转置\n",
    "A2.T                    "
   ]
  },
  {
   "cell_type": "markdown",
   "id": "5a73c723",
   "metadata": {},
   "source": [
    "### 7. 合并与拆分"
   ]
  },
  {
   "cell_type": "code",
   "execution_count": null,
   "id": "9f0a5521",
   "metadata": {},
   "outputs": [],
   "source": [
    "a = np.array([[1,2],[3,4]])\n",
    "b = np.array([[5,6]])\n",
    "a, b"
   ]
  },
  {
   "cell_type": "code",
   "execution_count": null,
   "id": "536b399a",
   "metadata": {},
   "outputs": [],
   "source": [
    "# 垂直堆叠\n",
    "np.vstack((a, b))"
   ]
  },
  {
   "cell_type": "code",
   "execution_count": null,
   "id": "7106caeb",
   "metadata": {},
   "outputs": [],
   "source": [
    "# 水平堆叠\n",
    "np.hstack((a, a))"
   ]
  },
  {
   "cell_type": "code",
   "execution_count": null,
   "id": "2fe48e51",
   "metadata": {},
   "outputs": [],
   "source": [
    "# 按行分割\n",
    "np.split(a, 2, axis=0)  # 按行分割成2部分"
   ]
  },
  {
   "cell_type": "code",
   "execution_count": null,
   "id": "ad33c2fe",
   "metadata": {},
   "outputs": [],
   "source": [
    "# 按列分割\n",
    "np.split(a, 2, axis=1)  # 按列分割成2部分"
   ]
  },
  {
   "cell_type": "code",
   "execution_count": null,
   "id": "af1ea6de",
   "metadata": {},
   "outputs": [],
   "source": [
    "# 在指定轴上拼接多个数组 \n",
    "a = np.array([1, 2, 3])\n",
    "b = np.array([4, 5, 6])\n",
    "a, b "
   ]
  },
  {
   "cell_type": "code",
   "execution_count": null,
   "id": "901738da",
   "metadata": {},
   "outputs": [],
   "source": [
    "np.concatenate((a, b))"
   ]
  },
  {
   "cell_type": "code",
   "execution_count": null,
   "id": "1919ae8e",
   "metadata": {},
   "outputs": [],
   "source": [
    "# 二维数组拼接（按行）\n",
    "a = np.array([[1, 2], [3, 4]])\n",
    "b = np.array([[5, 6]])\n",
    "a,b"
   ]
  },
  {
   "cell_type": "code",
   "execution_count": null,
   "id": "ffd6f139",
   "metadata": {},
   "outputs": [],
   "source": [
    "np.concatenate((a, b), axis=0)"
   ]
  },
  {
   "cell_type": "code",
   "execution_count": null,
   "id": "9774a202",
   "metadata": {},
   "outputs": [],
   "source": [
    "# 二维数组拼接（按列）\n",
    "a = np.array([[1, 2], [3, 4]])\n",
    "b = np.array([[5, 6], [7, 8]])\n",
    "a,b"
   ]
  },
  {
   "cell_type": "code",
   "execution_count": null,
   "id": "59ce81f4",
   "metadata": {},
   "outputs": [],
   "source": [
    "np.concatenate((a, b), axis=1)"
   ]
  },
  {
   "cell_type": "markdown",
   "id": "87d18f15",
   "metadata": {},
   "source": [
    "### 8. 随机数"
   ]
  },
  {
   "cell_type": "code",
   "execution_count": 103,
   "id": "a886b173",
   "metadata": {},
   "outputs": [
    {
     "data": {
      "text/plain": [
       "array([[0.12992703, 0.82895295],\n",
       "       [0.6200832 , 0.96765876],\n",
       "       [0.26847909, 0.92348916]])"
      ]
     },
     "execution_count": 103,
     "metadata": {},
     "output_type": "execute_result"
    }
   ],
   "source": [
    "# 均匀分布 [0,1)\n",
    "np.random.rand(3,2)  # 3行2列"
   ]
  },
  {
   "cell_type": "code",
   "execution_count": 104,
   "id": "7a1431a3",
   "metadata": {},
   "outputs": [
    {
     "data": {
      "text/plain": [
       "array([[-1.39725267,  0.00782591],\n",
       "       [-1.05851044, -0.30734452],\n",
       "       [ 0.22679692,  0.84782686]])"
      ]
     },
     "execution_count": 104,
     "metadata": {},
     "output_type": "execute_result"
    }
   ],
   "source": [
    "# 标准正态分布\n",
    "np.random.randn(3,2)  # 3行2列"
   ]
  },
  {
   "cell_type": "code",
   "execution_count": 105,
   "id": "079fee30",
   "metadata": {},
   "outputs": [
    {
     "data": {
      "text/plain": [
       "array([2, 0, 3, 4, 3])"
      ]
     },
     "execution_count": 105,
     "metadata": {},
     "output_type": "execute_result"
    }
   ],
   "source": [
    "# 0-9 随机整数\n",
    "np.random.randint(0, 10, 5)  # 5个随机整数"
   ]
  },
  {
   "cell_type": "code",
   "execution_count": 106,
   "id": "b875a21b",
   "metadata": {},
   "outputs": [
    {
     "data": {
      "text/plain": [
       "array([[0, 9],\n",
       "       [2, 0],\n",
       "       [9, 8]])"
      ]
     },
     "execution_count": 106,
     "metadata": {},
     "output_type": "execute_result"
    }
   ],
   "source": [
    "# 0-9 随机整数\n",
    "np.random.randint(0, 10, (3,2))  # 3行2列的随机整数"
   ]
  },
  {
   "cell_type": "markdown",
   "id": "8391bb64",
   "metadata": {},
   "source": [
    "### 9. 条件筛选"
   ]
  },
  {
   "cell_type": "code",
   "execution_count": 96,
   "id": "c06c2dbc",
   "metadata": {},
   "outputs": [
    {
     "data": {
      "text/plain": [
       "array([1, 2, 3, 4, 5])"
      ]
     },
     "execution_count": 96,
     "metadata": {},
     "output_type": "execute_result"
    }
   ],
   "source": [
    "a = np.array([1, 2, 3, 4, 5])\n",
    "a"
   ]
  },
  {
   "cell_type": "code",
   "execution_count": 100,
   "id": "11581c6f",
   "metadata": {},
   "outputs": [
    {
     "data": {
      "text/plain": [
       "array([2, 3, 4, 5])"
      ]
     },
     "execution_count": 100,
     "metadata": {},
     "output_type": "execute_result"
    }
   ],
   "source": [
    "a[a >= 2]   "
   ]
  },
  {
   "cell_type": "code",
   "execution_count": 101,
   "id": "f31d5281",
   "metadata": {},
   "outputs": [
    {
     "data": {
      "text/plain": [
       "(array([1, 3]),)"
      ]
     },
     "execution_count": 101,
     "metadata": {},
     "output_type": "execute_result"
    }
   ],
   "source": [
    "# 偶数的索引\n",
    "idx = np.where(a%2==0) \n",
    "idx"
   ]
  },
  {
   "cell_type": "code",
   "execution_count": 102,
   "id": "40610d33",
   "metadata": {},
   "outputs": [
    {
     "data": {
      "text/plain": [
       "array([2, 4])"
      ]
     },
     "execution_count": 102,
     "metadata": {},
     "output_type": "execute_result"
    }
   ],
   "source": [
    "a[idx]"
   ]
  }
 ],
 "metadata": {
  "kernelspec": {
   "display_name": "Python (uv_general)",
   "language": "python",
   "name": "uv_general"
  },
  "language_info": {
   "codemirror_mode": {
    "name": "ipython",
    "version": 3
   },
   "file_extension": ".py",
   "mimetype": "text/x-python",
   "name": "python",
   "nbconvert_exporter": "python",
   "pygments_lexer": "ipython3",
   "version": "3.13.7"
  }
 },
 "nbformat": 4,
 "nbformat_minor": 5
}
